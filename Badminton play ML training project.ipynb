{
 "cells": [
  {
   "cell_type": "code",
   "execution_count": 101,
   "id": "4fea84af",
   "metadata": {},
   "outputs": [],
   "source": [
    "import pandas as pd\n",
    "import numpy as np\n",
    "from pathlib import Path\n"
   ]
  },
  {
   "cell_type": "code",
   "execution_count": 53,
   "id": "818133a8",
   "metadata": {},
   "outputs": [],
   "source": [
    "badminton_play_data = pd.read_csv(Path(\"badminton_dataset.csv\"), index_col=0)"
   ]
  },
  {
   "cell_type": "code",
   "execution_count": 63,
   "id": "2d65e70a",
   "metadata": {},
   "outputs": [
    {
     "data": {
      "text/plain": [
       "Temperature    object\n",
       "Humidity       object\n",
       "Wind           object\n",
       "dtype: object"
      ]
     },
     "execution_count": 63,
     "metadata": {},
     "output_type": "execute_result"
    }
   ],
   "source": [
    "badminton_play_data.describe()\n",
    "badminton_play_data.dtypes"
   ]
  },
  {
   "cell_type": "code",
   "execution_count": 55,
   "id": "62a3c113",
   "metadata": {},
   "outputs": [],
   "source": [
    "badminton_play_labels = badminton_play_data[[\"Play_Badminton\"]]\n",
    "badminton_play_data = badminton_play_data.copy()\n",
    "del badminton_play_data[\"Play_Badminton\"]"
   ]
  },
  {
   "cell_type": "code",
   "execution_count": 56,
   "id": "cbacb200",
   "metadata": {},
   "outputs": [],
   "source": [
    "# All the values in this case are represented using string values. As soon as, ML libraries can hardly process\n",
    "# text string data, it will be better to transform it to numerical data. In cases where there is a enum of values, then we can use Encoder\n",
    "\n",
    "from sklearn.preprocessing import OrdinalEncoder\n",
    "from sklearn.pipeline import Pipeline\n",
    "\n",
    "pipeline = Pipeline([(\"ordinalEncoder\", OrdinalEncoder())])\n",
    "badminton_play_data_transformed = pipeline.fit_transform(badminton_play_data)\n",
    "badminton_play_labels_transformed = pipeline.fit_transform(badminton_play_labels)\n",
    "\n"
   ]
  },
  {
   "cell_type": "code",
   "execution_count": 79,
   "id": "315c425d",
   "metadata": {},
   "outputs": [],
   "source": [
    "# Select data for the training and for the testing. f.e. 9 to 1.\n",
    "data_size = badminton_play_data.shape[0]\n",
    "training_data_chunks = int(data_size/10)\n",
    "\n",
    "training_data = badminton_play_data_transformed[:training_data_chunks*9]\n",
    "training_data_labels = badminton_play_labels_transformed[:training_data_chunks*9]\n",
    "\n",
    "testing_data = badminton_play_data_transformed[training_data.shape[0]:]\n",
    "testing_data_labels = badminton_play_labels_transformed[training_data.shape[0]:]"
   ]
  },
  {
   "cell_type": "code",
   "execution_count": 93,
   "id": "13ea7ab7",
   "metadata": {},
   "outputs": [],
   "source": [
    "# MSE analyzer\n",
    "from sklearn.metrics import mean_squared_error\n",
    "\n",
    "def get_rmse(labels, predictions):\n",
    "    return mean_squared_error(labels,predictions)"
   ]
  },
  {
   "cell_type": "code",
   "execution_count": 97,
   "id": "f5e58bb0",
   "metadata": {},
   "outputs": [
    {
     "name": "stdout",
     "output_type": "stream",
     "text": [
      "0.16499945445826736\n"
     ]
    }
   ],
   "source": [
    "# trying different models\n",
    "# Linear Regression\n",
    "from sklearn.linear_model import LinearRegression\n",
    "\n",
    "model=LinearRegression()\n",
    "model.fit(training_data,training_data_labels)\n",
    "\n",
    "print(get_rmse(testing_data_labels,model.predict(testing_data)))\n",
    "# 0.16499945445826736"
   ]
  },
  {
   "cell_type": "code",
   "execution_count": 103,
   "id": "94b5e291",
   "metadata": {},
   "outputs": [
    {
     "name": "stdout",
     "output_type": "stream",
     "text": [
      "0.25757345219198796\n"
     ]
    }
   ],
   "source": [
    "# Random Forest Regressor\n",
    "from sklearn.ensemble import RandomForestRegressor\n",
    "\n",
    "modelRandomForest=RandomForestRegressor()\n",
    "modelRandomForest.fit(training_data,np.ravel(training_data_labels))\n",
    "\n",
    "print(get_rmse(testing_data_labels,modelRandomForest.predict(testing_data)))\n",
    "# 0.24049698456790125"
   ]
  },
  {
   "cell_type": "code",
   "execution_count": 106,
   "id": "ff79e3ad",
   "metadata": {},
   "outputs": [
    {
     "name": "stdout",
     "output_type": "stream",
     "text": [
      "0.3888888888888889\n"
     ]
    }
   ],
   "source": [
    "# Decision Tree Regressore\n",
    "from sklearn.tree import DecisionTreeRegressor\n",
    "\n",
    "\n",
    "modelDecisionTree=DecisionTreeRegressor()\n",
    "modelDecisionTree.fit(training_data,np.ravel(training_data_labels))\n",
    "\n",
    "print(get_rmse(testing_data_labels,modelDecisionTree.predict(testing_data)))\n",
    "# 0.3888888888888889"
   ]
  },
  {
   "cell_type": "code",
   "execution_count": 111,
   "id": "21317a6b",
   "metadata": {},
   "outputs": [
    {
     "name": "stdout",
     "output_type": "stream",
     "text": [
      "0.3347050754458161\n"
     ]
    }
   ],
   "source": [
    "# Lasso\n",
    "\n",
    "from sklearn.linear_model import Lasso\n",
    "\n",
    "modelLasso=Lasso()\n",
    "modelLasso.fit(training_data,training_data_labels)\n",
    "\n",
    "print(get_rmse(testing_data_labels,modelLasso.predict(testing_data)))\n",
    "# 0.3347050754458161"
   ]
  },
  {
   "cell_type": "code",
   "execution_count": 112,
   "id": "ff342300",
   "metadata": {},
   "outputs": [
    {
     "data": {
      "text/plain": [
       "['lasso_model.pkl']"
      ]
     },
     "execution_count": 112,
     "metadata": {},
     "output_type": "execute_result"
    }
   ],
   "source": [
    "import joblib\n",
    "\n",
    "joblib.dump(model, \"linear_regression_model.pkl\")\n",
    "joblib.dump(modelRandomForest, \"random_forest_model.pkl\")\n",
    "joblib.dump(modelDecisionTree, \"decision_tree_model.pkl\")\n",
    "joblib.dump(modelLasso, \"lasso_model.pkl\")"
   ]
  },
  {
   "cell_type": "code",
   "execution_count": null,
   "id": "16f3650d",
   "metadata": {},
   "outputs": [],
   "source": []
  }
 ],
 "metadata": {
  "kernelspec": {
   "display_name": "Python 3 (ipykernel)",
   "language": "python",
   "name": "python3"
  },
  "language_info": {
   "codemirror_mode": {
    "name": "ipython",
    "version": 3
   },
   "file_extension": ".py",
   "mimetype": "text/x-python",
   "name": "python",
   "nbconvert_exporter": "python",
   "pygments_lexer": "ipython3",
   "version": "3.9.13"
  }
 },
 "nbformat": 4,
 "nbformat_minor": 5
}
